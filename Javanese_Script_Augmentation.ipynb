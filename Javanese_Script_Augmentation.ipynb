{
  "nbformat": 4,
  "nbformat_minor": 0,
  "metadata": {
    "colab": {
      "provenance": [],
      "gpuType": "T4"
    },
    "kernelspec": {
      "name": "python3",
      "display_name": "Python 3"
    },
    "language_info": {
      "name": "python"
    },
    "accelerator": "GPU"
  },
  "cells": [
    {
      "cell_type": "code",
      "execution_count": null,
      "metadata": {
        "id": "fJrIQ4eA6sED"
      },
      "outputs": [],
      "source": [
        "!pip install imutils"
      ]
    },
    {
      "cell_type": "code",
      "source": [
        "from tensorflow.keras.models import Sequential, load_model\n",
        "from tensorflow.keras.layers import Conv2D, MaxPooling2D, Flatten, Dense, Activation, Dropout\n",
        "from tensorflow.keras.preprocessing.image import ImageDataGenerator\n",
        "from tensorflow.keras.preprocessing import image as img_\n",
        "from tensorflow.keras.metrics import categorical_accuracy\n",
        "from tensorflow.keras.callbacks import ModelCheckpoint, EarlyStopping\n",
        "\n",
        "import matplotlib.pyplot as plt\n",
        "import cv2\n",
        "import seaborn as sns\n",
        "import numpy as np\n",
        "import os\n",
        "\n",
        "# Hanya untuk Jupyter Notebook\n",
        "# %matplotlib inline\n"
      ],
      "metadata": {
        "id": "Xp9SJr_r_vBV"
      },
      "execution_count": null,
      "outputs": []
    },
    {
      "cell_type": "code",
      "source": [
        "import os\n",
        "import zipfile\n",
        "import requests\n",
        "from io import BytesIO\n",
        "from tensorflow.keras.preprocessing.image import ImageDataGenerator\n",
        "\n",
        "# URL file ZIP GitHub\n",
        "zip_url = \"https://github.com/C4AnN/Javanese-Script-Augmentation/archive/refs/heads/main.zip\"\n",
        "\n",
        "# Nama folder hasil ekstrak\n",
        "extract_to = \"Javanese_Script\"\n",
        "\n",
        "# Unduh ZIP dari GitHub\n",
        "print(\"Mengunduh data dari GitHub...\")\n",
        "response = requests.get(zip_url)\n",
        "if response.status_code == 200:\n",
        "    with zipfile.ZipFile(BytesIO(response.content)) as zip_ref:\n",
        "        zip_ref.extractall()\n",
        "        print(\"Ekstraksi selesai.\")\n",
        "else:\n",
        "    raise Exception(\"Gagal mengunduh ZIP dari GitHub\")\n",
        "\n",
        "# Rename folder hasil ekstrak (opsional, untuk mempermudah akses)\n",
        "original_folder = \"Javanese-Script-Augmentation-main/Javanese Script\"\n",
        "if not os.path.exists(extract_to):\n",
        "    os.rename(original_folder, extract_to)\n",
        "\n",
        "# Inisialisasi ImageDataGenerator\n",
        "image_generator = ImageDataGenerator(rescale=1./255)\n",
        "size_w = 64\n",
        "size_h = size_w\n",
        "\n",
        "# Buat data generator\n",
        "train_data = image_generator.flow_from_directory(\n",
        "    os.path.join(extract_to, \"train\"),\n",
        "    target_size=(size_w, size_h),\n",
        "    batch_size=1,\n",
        "    class_mode='categorical',\n",
        "    color_mode='rgb'\n",
        ")\n",
        "\n",
        "validation_data = image_generator.flow_from_directory(\n",
        "    os.path.join(extract_to, \"val\"),\n",
        "    target_size=(size_w, size_h),\n",
        "    batch_size=1,\n",
        "    class_mode='categorical',\n",
        "    color_mode='rgb'\n",
        ")\n",
        "\n",
        "test_data = image_generator.flow_from_directory(\n",
        "    os.path.join(extract_to, \"test\"),\n",
        "    target_size=(size_w, size_h),\n",
        "    batch_size=1,\n",
        "    class_mode='categorical',\n",
        "    color_mode='rgb'\n",
        ")\n"
      ],
      "metadata": {
        "id": "ZpL6fuELLFh6"
      },
      "execution_count": null,
      "outputs": []
    },
    {
      "cell_type": "code",
      "source": [
        "def switch_dict_key_values(this_dict):\n",
        "  return dict((v,k) for k,v in this_dict.items())\n",
        "\n",
        "classes_name = switch_dict_key_values(train_data.class_indices)\n",
        "print(classes_name)"
      ],
      "metadata": {
        "id": "yEwf9p-TODi8"
      },
      "execution_count": null,
      "outputs": []
    },
    {
      "cell_type": "markdown",
      "source": [
        "## **Created CNN Model Architecture**"
      ],
      "metadata": {
        "id": "ru1lBzUxOi3e"
      }
    },
    {
      "cell_type": "code",
      "source": [
        "from tensorflow.keras.models import Sequential, load_model\n",
        "from tensorflow.keras.layers import Conv2D, MaxPooling2D, Flatten, Dense, Activation, Dropout\n",
        "from tensorflow.keras.preprocessing.image import ImageDataGenerator\n",
        "from tensorflow.keras.preprocessing import image as img_\n",
        "from tensorflow.keras.metrics import categorical_accuracy\n",
        "from tensorflow.keras.callbacks import ModelCheckpoint, EarlyStopping\n"
      ],
      "metadata": {
        "id": "lbGMVaSqUIEh"
      },
      "execution_count": null,
      "outputs": []
    },
    {
      "cell_type": "code",
      "source": [
        "model = Sequential()\n",
        "kernel = 3\n",
        "\n",
        "model.add(Conv2D(filters=64, kernel_size=kernel, input_shape=(size_w, size_h, 3), activation='relu'))\n",
        "model.add(MaxPool2D(pool_size=(2, 2)))\n",
        "\n",
        "model.add(Conv2D(filters=128, kernel_size=kernel, activation='relu'))\n",
        "model.add(MaxPool2D(pool_size=(2, 2)))\n",
        "\n",
        "model.add(Conv2D(filters=256, kernel_size=kernel, activation='relu'))\n",
        "model.add(MaxPool2D(pool_size=(2, 2)))\n",
        "\n",
        "model.add(Conv2D(filters=512, kernel_size=kernel, activation='relu'))\n",
        "model.add(MaxPool2D(pool_size=(2, 2)))\n",
        "\n",
        "\n",
        "model.add(Flatten())\n",
        "model.add(Dense(256, activation='relu'))\n",
        "model.add(Dropout(0.2))\n",
        "\n",
        "model.add(Dense(20, activation='softmax'))\n",
        "\n",
        "model.compile(loss='categorical_crossentropy',\n",
        "              optimizer='sgd',\n",
        "              metrics=['accuracy'])\n",
        "model.summary()"
      ],
      "metadata": {
        "id": "72_KJV1UOgMz"
      },
      "execution_count": null,
      "outputs": []
    },
    {
      "cell_type": "code",
      "source": [
        "r = model.fit(\n",
        "    train_data,\n",
        "    epochs=5,\n",
        "    validation_data=validation_data,\n",
        ")"
      ],
      "metadata": {
        "id": "N6d5DiQzP_LQ"
      },
      "execution_count": null,
      "outputs": []
    },
    {
      "cell_type": "code",
      "source": [
        "plt.figure(figsize=(12, 8))\n",
        "\n",
        "plt.subplot(2, 2, 1)\n",
        "plt.plot(r.history['loss'], label='Loss')\n",
        "plt.plot(r.history['val_loss'], label='Val_Loss')\n",
        "plt.legend()\n",
        "plt.title('Loss Evolution')\n",
        "\n",
        "plt.subplot(2, 2, 2)\n",
        "plt.plot(r.history['accuracy'], label='Accuracy')\n",
        "plt.plot(r.history['val_accuracy'], label='Val_Accuracy')\n",
        "plt.legend()\n",
        "plt.title('Accuracy Evolution')"
      ],
      "metadata": {
        "id": "xXf-Lv8PVLaQ"
      },
      "execution_count": null,
      "outputs": []
    },
    {
      "cell_type": "code",
      "source": [
        "evaluation = model.evaluate(test_data)\n",
        "print(f\"Test Accuracy: {evaluation[1] * 100:.2f}%\")"
      ],
      "metadata": {
        "id": "kTFwjrEhWA_u"
      },
      "execution_count": null,
      "outputs": []
    },
    {
      "cell_type": "code",
      "source": [
        "model.save('./model.h5')"
      ],
      "metadata": {
        "id": "oSftSd_6Wqql"
      },
      "execution_count": null,
      "outputs": []
    },
    {
      "cell_type": "code",
      "source": [
        "def sort_contours(cnts, method=\"left-to-right\"):\n",
        "    reverse = False\n",
        "    i = 0\n",
        "    if method == \"right-to-left\" or method == \"bottom-to-top\":\n",
        "        reverse = True\n",
        "    if method == \"top-to-bottom\" or method == \"bottom-to-top\":\n",
        "        i = 1\n",
        "    boundingBoxes = [cv2.boundingRect(c) for c in cnts]\n",
        "    (cnts, boundingBoxes) = zip(*sorted(zip(cnts, boundingBoxes),\n",
        "    key=lambda b:b[1][i], reverse=reverse))\n",
        "    # return the list of sorted contours and bounding boxes\n",
        "    return (cnts, boundingBoxes)\n",
        "\n",
        "\n",
        "def get_letters(img):\n",
        "    letters = []\n",
        "    image = cv2.imread(img)\n",
        "    gray = cv2.cvtColor(image, cv2.COLOR_BGR2GRAY)\n",
        "    ret,thresh1 = cv2.threshold(gray ,127,255,cv2.THRESH_BINARY_INV)\n",
        "    dilated = cv2.dilate(thresh1, None, iterations=2)\n",
        "\n",
        "    cnts = cv2.findContours(dilated.copy(), cv2.RETR_EXTERNAL,cv2.CHAIN_APPROX_SIMPLE)\n",
        "    cnts = imutils.grab_contours(cnts)\n",
        "    cnts = sort_contours(cnts, method=\"left-to-right\")[0]\n",
        "    # loop over the contours\n",
        "    for c in cnts:\n",
        "        count = 1\n",
        "        pad = 0.1\n",
        "        if cv2.contourArea(c) > 10:\n",
        "            (x, y, w, h) = cv2.boundingRect(c)\n",
        "#             cv2.rectangle(box_img, (x, y), (x + w, y + h), (255, 0, 0), 2)\n",
        "        roi = image[y:y + h, x:x + w]\n",
        "        bordersize = int(0.1*x)\n",
        "        roi = cv2.copyMakeBorder(\n",
        "            roi,\n",
        "            top=bordersize,\n",
        "            bottom=bordersize,\n",
        "            left=bordersize,\n",
        "            right=bordersize,\n",
        "            borderType=cv2.BORDER_CONSTANT,\n",
        "            value = [255,255,255]\n",
        "        )\n",
        "        thresh = cv2.resize(roi, (64, 64))\n",
        "        img = img_.img_to_array(thresh)\n",
        "        img = np.expand_dims(img, axis = 0)\n",
        "\n",
        "        test_gen = ImageDataGenerator(\n",
        "            rescale = 1./255\n",
        "        )\n",
        "\n",
        "        image_gen = test_gen.flow(img)\n",
        "\n",
        "        ypred = model.predict(image_gen)\n",
        "        ypred = np.argmax(ypred,axis=1)\n",
        "        [x] = ypred\n",
        "        letters.append(str(classes_name[x]))\n",
        "\n",
        "        cv2.putText(img=roi, text=str(classes_name[x]), org=(0, int(roi.shape[1]*0.1)), fontFace=cv2.FONT_HERSHEY_TRIPLEX, fontScale=1, color=(255, 0, 0))\n",
        "        plt.figure()\n",
        "        plt.imshow(roi)\n",
        "\n",
        "    return letters, image\n",
        "\n",
        "def get_word(letter):\n",
        "    word = \"\".join(letter)\n",
        "    return word"
      ],
      "metadata": {
        "id": "T2tlMYqrWxNw"
      },
      "execution_count": null,
      "outputs": []
    },
    {
      "cell_type": "code",
      "source": [
        "import imutils\n",
        "import matplotlib.pyplot as plt\n",
        "\n",
        "# Misal 'get_letters' dan 'get_word' sudah didefinisikan sebelumnya\n",
        "\n",
        "letter, image = get_letters('Javanese_Script/predict_test/dhahara.jpg')\n",
        "word = get_word(letter)\n",
        "print('predicted :  ' + word)\n",
        "plt.figure()\n",
        "plt.imshow(image)\n",
        "plt.show()\n"
      ],
      "metadata": {
        "id": "CFyl8rHIW3eD"
      },
      "execution_count": null,
      "outputs": []
    },
    {
      "cell_type": "code",
      "source": [],
      "metadata": {
        "id": "MiUMl17UaMNL"
      },
      "execution_count": null,
      "outputs": []
    }
  ]
}